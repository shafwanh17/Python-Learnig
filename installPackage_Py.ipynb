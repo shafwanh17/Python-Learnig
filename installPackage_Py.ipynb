{
 "cells": [
  {
   "cell_type": "code",
   "execution_count": 1,
   "metadata": {},
   "outputs": [
    {
     "name": "stdout",
     "output_type": "stream",
     "text": [
      "Collecting jupyterlab\n",
      "  Downloading jupyterlab-3.4.7-py3-none-any.whl (8.8 MB)\n",
      "     ---------------------------------------- 8.8/8.8 MB 1.6 MB/s eta 0:00:00\n",
      "Collecting tomli\n",
      "  Downloading tomli-2.0.1-py3-none-any.whl (12 kB)\n",
      "Requirement already satisfied: jupyter-core in c:\\users\\fasiha\\appdata\\roaming\\python\\python310\\site-packages (from jupyterlab) (4.11.1)\n",
      "Requirement already satisfied: packaging in c:\\users\\fasiha\\appdata\\roaming\\python\\python310\\site-packages (from jupyterlab) (21.3)\n",
      "Collecting nbclassic\n",
      "  Downloading nbclassic-0.4.3-py3-none-any.whl (9.7 MB)\n",
      "     ---------------------------------------- 9.7/9.7 MB 1.7 MB/s eta 0:00:00\n",
      "Collecting notebook<7\n",
      "  Downloading notebook-6.4.12-py3-none-any.whl (9.9 MB)\n",
      "     ---------------------------------------- 9.9/9.9 MB 1.7 MB/s eta 0:00:00\n",
      "Collecting jinja2>=2.1\n",
      "  Downloading Jinja2-3.1.2-py3-none-any.whl (133 kB)\n",
      "     -------------------------------------- 133.1/133.1 kB 2.6 MB/s eta 0:00:00\n",
      "Collecting jupyterlab-server~=2.10\n",
      "  Downloading jupyterlab_server-2.15.1-py3-none-any.whl (54 kB)\n",
      "     ---------------------------------------- 54.1/54.1 kB 2.7 MB/s eta 0:00:00\n",
      "Requirement already satisfied: ipython in c:\\users\\fasiha\\appdata\\roaming\\python\\python310\\site-packages (from jupyterlab) (8.5.0)\n",
      "Collecting jupyter-server~=1.16\n",
      "  Downloading jupyter_server-1.18.1-py3-none-any.whl (344 kB)\n",
      "     ------------------------------------- 344.9/344.9 kB 10.5 MB/s eta 0:00:00\n",
      "Requirement already satisfied: tornado>=6.1.0 in c:\\users\\fasiha\\appdata\\roaming\\python\\python310\\site-packages (from jupyterlab) (6.2)\n",
      "Collecting MarkupSafe>=2.0\n",
      "  Downloading MarkupSafe-2.1.1-cp310-cp310-win_amd64.whl (17 kB)\n",
      "Collecting argon2-cffi\n",
      "  Downloading argon2_cffi-21.3.0-py3-none-any.whl (14 kB)\n",
      "Collecting Send2Trash\n",
      "  Downloading Send2Trash-1.8.0-py3-none-any.whl (18 kB)\n",
      "Requirement already satisfied: pyzmq>=17 in c:\\users\\fasiha\\appdata\\roaming\\python\\python310\\site-packages (from jupyter-server~=1.16->jupyterlab) (23.2.1)\n",
      "Collecting anyio<4,>=3.1.0\n",
      "  Downloading anyio-3.6.1-py3-none-any.whl (80 kB)\n",
      "     ---------------------------------------- 80.6/80.6 kB ? eta 0:00:00\n",
      "Collecting terminado>=0.8.3\n",
      "  Downloading terminado-0.15.0-py3-none-any.whl (16 kB)\n",
      "Collecting nbconvert>=6.4.4\n",
      "  Downloading nbconvert-7.0.0-py3-none-any.whl (271 kB)\n",
      "     -------------------------------------- 271.3/271.3 kB 8.4 MB/s eta 0:00:00\n",
      "Requirement already satisfied: jupyter-client>=6.1.12 in c:\\users\\fasiha\\appdata\\roaming\\python\\python310\\site-packages (from jupyter-server~=1.16->jupyterlab) (7.3.5)\n",
      "Collecting nbformat>=5.2.0\n",
      "  Downloading nbformat-5.5.0-py3-none-any.whl (75 kB)\n",
      "     ---------------------------------------- 75.3/75.3 kB ? eta 0:00:00\n",
      "Requirement already satisfied: traitlets>=5.1 in c:\\users\\fasiha\\appdata\\roaming\\python\\python310\\site-packages (from jupyter-server~=1.16->jupyterlab) (5.4.0)\n",
      "Collecting pywinpty\n",
      "  Downloading pywinpty-2.0.7-cp310-none-win_amd64.whl (1.4 MB)\n",
      "     ---------------------------------------- 1.4/1.4 MB 2.0 MB/s eta 0:00:00\n",
      "Collecting websocket-client\n",
      "  Downloading websocket_client-1.4.1-py3-none-any.whl (55 kB)\n",
      "     ---------------------------------------- 55.0/55.0 kB ? eta 0:00:00\n",
      "Collecting prometheus-client\n",
      "  Downloading prometheus_client-0.14.1-py3-none-any.whl (59 kB)\n",
      "     ---------------------------------------- 59.5/59.5 kB ? eta 0:00:00\n",
      "Requirement already satisfied: pywin32>=1.0 in c:\\users\\fasiha\\appdata\\roaming\\python\\python310\\site-packages (from jupyter-core->jupyterlab) (304)\n",
      "Collecting babel\n",
      "  Downloading Babel-2.10.3-py3-none-any.whl (9.5 MB)\n",
      "     ---------------------------------------- 9.5/9.5 MB 1.6 MB/s eta 0:00:00\n",
      "Collecting requests\n",
      "  Downloading requests-2.28.1-py3-none-any.whl (62 kB)\n",
      "     ---------------------------------------- 62.8/62.8 kB 1.1 MB/s eta 0:00:00\n",
      "Collecting jsonschema>=3.0.1\n",
      "  Downloading jsonschema-4.16.0-py3-none-any.whl (83 kB)\n",
      "     ---------------------------------------- 83.1/83.1 kB 4.9 MB/s eta 0:00:00\n",
      "Collecting json5\n",
      "  Downloading json5-0.9.10-py2.py3-none-any.whl (19 kB)\n",
      "Requirement already satisfied: nest-asyncio>=1.5 in c:\\users\\fasiha\\appdata\\roaming\\python\\python310\\site-packages (from notebook<7->jupyterlab) (1.5.5)\n",
      "Requirement already satisfied: ipykernel in c:\\users\\fasiha\\appdata\\roaming\\python\\python310\\site-packages (from notebook<7->jupyterlab) (6.15.3)\n",
      "Collecting ipython-genutils\n",
      "  Downloading ipython_genutils-0.2.0-py2.py3-none-any.whl (26 kB)\n",
      "Requirement already satisfied: backcall in c:\\users\\fasiha\\appdata\\roaming\\python\\python310\\site-packages (from ipython->jupyterlab) (0.2.0)\n",
      "Requirement already satisfied: decorator in c:\\users\\fasiha\\appdata\\roaming\\python\\python310\\site-packages (from ipython->jupyterlab) (5.1.1)\n",
      "Requirement already satisfied: jedi>=0.16 in c:\\users\\fasiha\\appdata\\roaming\\python\\python310\\site-packages (from ipython->jupyterlab) (0.18.1)\n",
      "Requirement already satisfied: prompt-toolkit<3.1.0,>3.0.1 in c:\\users\\fasiha\\appdata\\roaming\\python\\python310\\site-packages (from ipython->jupyterlab) (3.0.31)\n",
      "Requirement already satisfied: pickleshare in c:\\users\\fasiha\\appdata\\roaming\\python\\python310\\site-packages (from ipython->jupyterlab) (0.7.5)\n",
      "Requirement already satisfied: matplotlib-inline in c:\\users\\fasiha\\appdata\\roaming\\python\\python310\\site-packages (from ipython->jupyterlab) (0.1.6)\n",
      "Requirement already satisfied: colorama in c:\\users\\fasiha\\appdata\\roaming\\python\\python310\\site-packages (from ipython->jupyterlab) (0.4.5)\n",
      "Requirement already satisfied: stack-data in c:\\users\\fasiha\\appdata\\roaming\\python\\python310\\site-packages (from ipython->jupyterlab) (0.5.0)\n",
      "Requirement already satisfied: pygments>=2.4.0 in c:\\users\\fasiha\\appdata\\roaming\\python\\python310\\site-packages (from ipython->jupyterlab) (2.13.0)\n",
      "Collecting notebook-shim>=0.1.0\n",
      "  Downloading notebook_shim-0.1.0-py3-none-any.whl (13 kB)\n",
      "Requirement already satisfied: pyparsing!=3.0.5,>=2.0.2 in c:\\users\\fasiha\\appdata\\roaming\\python\\python310\\site-packages (from packaging->jupyterlab) (3.0.9)\n",
      "Collecting idna>=2.8\n",
      "  Downloading idna-3.4-py3-none-any.whl (61 kB)\n",
      "     ---------------------------------------- 61.5/61.5 kB 3.4 MB/s eta 0:00:00\n",
      "Collecting sniffio>=1.1\n",
      "  Downloading sniffio-1.3.0-py3-none-any.whl (10 kB)\n",
      "Requirement already satisfied: parso<0.9.0,>=0.8.0 in c:\\users\\fasiha\\appdata\\roaming\\python\\python310\\site-packages (from jedi>=0.16->ipython->jupyterlab) (0.8.3)\n",
      "Collecting pyrsistent!=0.17.0,!=0.17.1,!=0.17.2,>=0.14.0\n",
      "  Downloading pyrsistent-0.18.1-cp310-cp310-win_amd64.whl (61 kB)\n",
      "     ---------------------------------------- 61.6/61.6 kB 3.2 MB/s eta 0:00:00\n",
      "Collecting attrs>=17.4.0\n",
      "  Downloading attrs-22.1.0-py2.py3-none-any.whl (58 kB)\n",
      "     ---------------------------------------- 58.8/58.8 kB 3.0 MB/s eta 0:00:00\n",
      "Requirement already satisfied: python-dateutil>=2.8.2 in c:\\users\\fasiha\\appdata\\roaming\\python\\python310\\site-packages (from jupyter-client>=6.1.12->jupyter-server~=1.16->jupyterlab) (2.8.2)\n",
      "Requirement already satisfied: entrypoints in c:\\users\\fasiha\\appdata\\roaming\\python\\python310\\site-packages (from jupyter-client>=6.1.12->jupyter-server~=1.16->jupyterlab) (0.4)\n",
      "Collecting lxml\n",
      "  Downloading lxml-4.9.1-cp310-cp310-win_amd64.whl (3.6 MB)\n",
      "     ---------------------------------------- 3.6/3.6 MB 1.8 MB/s eta 0:00:00\n",
      "Collecting tinycss2\n",
      "  Downloading tinycss2-1.1.1-py3-none-any.whl (21 kB)\n",
      "Collecting defusedxml\n",
      "  Downloading defusedxml-0.7.1-py2.py3-none-any.whl (25 kB)\n",
      "Collecting bleach\n",
      "  Downloading bleach-5.0.1-py3-none-any.whl (160 kB)\n",
      "     -------------------------------------- 160.9/160.9 kB 9.4 MB/s eta 0:00:00\n",
      "Collecting nbclient>=0.5.0\n",
      "  Downloading nbclient-0.6.8-py3-none-any.whl (71 kB)\n",
      "     ---------------------------------------- 71.8/71.8 kB ? eta 0:00:00\n",
      "Collecting mistune<3,>=2.0.3\n",
      "  Downloading mistune-2.0.4-py2.py3-none-any.whl (24 kB)\n",
      "Collecting pandocfilters>=1.4.1\n",
      "  Downloading pandocfilters-1.5.0-py2.py3-none-any.whl (8.7 kB)\n",
      "Collecting jupyterlab-pygments\n",
      "  Downloading jupyterlab_pygments-0.2.2-py2.py3-none-any.whl (21 kB)\n",
      "Collecting beautifulsoup4\n",
      "  Downloading beautifulsoup4-4.11.1-py3-none-any.whl (128 kB)\n",
      "     -------------------------------------- 128.2/128.2 kB 7.4 MB/s eta 0:00:00\n",
      "Collecting fastjsonschema\n",
      "  Downloading fastjsonschema-2.16.1-py3-none-any.whl (22 kB)\n",
      "Requirement already satisfied: wcwidth in c:\\users\\fasiha\\appdata\\roaming\\python\\python310\\site-packages (from prompt-toolkit<3.1.0,>3.0.1->ipython->jupyterlab) (0.2.5)\n",
      "Collecting argon2-cffi-bindings\n",
      "  Downloading argon2_cffi_bindings-21.2.0-cp36-abi3-win_amd64.whl (30 kB)\n",
      "Collecting pytz>=2015.7\n",
      "  Downloading pytz-2022.2.1-py2.py3-none-any.whl (500 kB)\n",
      "     -------------------------------------- 500.6/500.6 kB 3.9 MB/s eta 0:00:00\n",
      "Requirement already satisfied: psutil in c:\\users\\fasiha\\appdata\\roaming\\python\\python310\\site-packages (from ipykernel->notebook<7->jupyterlab) (5.9.2)\n",
      "Requirement already satisfied: debugpy>=1.0 in c:\\users\\fasiha\\appdata\\roaming\\python\\python310\\site-packages (from ipykernel->notebook<7->jupyterlab) (1.6.3)\n",
      "Collecting charset-normalizer<3,>=2\n",
      "  Downloading charset_normalizer-2.1.1-py3-none-any.whl (39 kB)\n",
      "Collecting urllib3<1.27,>=1.21.1\n",
      "  Downloading urllib3-1.26.12-py2.py3-none-any.whl (140 kB)\n",
      "     -------------------------------------- 140.4/140.4 kB 4.2 MB/s eta 0:00:00\n",
      "Collecting certifi>=2017.4.17\n",
      "  Downloading certifi-2022.9.14-py3-none-any.whl (162 kB)\n",
      "     ------------------------------------- 162.5/162.5 kB 10.2 MB/s eta 0:00:00\n",
      "Requirement already satisfied: executing in c:\\users\\fasiha\\appdata\\roaming\\python\\python310\\site-packages (from stack-data->ipython->jupyterlab) (1.0.0)\n",
      "Requirement already satisfied: asttokens in c:\\users\\fasiha\\appdata\\roaming\\python\\python310\\site-packages (from stack-data->ipython->jupyterlab) (2.0.8)\n",
      "Requirement already satisfied: pure-eval in c:\\users\\fasiha\\appdata\\roaming\\python\\python310\\site-packages (from stack-data->ipython->jupyterlab) (0.2.2)\n",
      "Requirement already satisfied: six>=1.5 in c:\\users\\fasiha\\appdata\\roaming\\python\\python310\\site-packages (from python-dateutil>=2.8.2->jupyter-client>=6.1.12->jupyter-server~=1.16->jupyterlab) (1.16.0)\n",
      "Collecting cffi>=1.0.1\n",
      "  Downloading cffi-1.15.1-cp310-cp310-win_amd64.whl (179 kB)\n",
      "     ---------------------------------------- 179.1/179.1 kB ? eta 0:00:00\n",
      "Collecting soupsieve>1.2\n",
      "  Downloading soupsieve-2.3.2.post1-py3-none-any.whl (37 kB)\n",
      "Collecting webencodings\n",
      "  Downloading webencodings-0.5.1-py2.py3-none-any.whl (11 kB)\n",
      "Collecting pycparser\n",
      "  Downloading pycparser-2.21-py2.py3-none-any.whl (118 kB)\n",
      "     -------------------------------------- 118.7/118.7 kB 6.8 MB/s eta 0:00:00\n",
      "Installing collected packages: webencodings, Send2Trash, pytz, mistune, json5, ipython-genutils, fastjsonschema, websocket-client, urllib3, tomli, tinycss2, soupsieve, sniffio, pywinpty, pyrsistent, pycparser, prometheus-client, pandocfilters, MarkupSafe, lxml, jupyterlab-pygments, idna, defusedxml, charset-normalizer, certifi, bleach, babel, attrs, terminado, requests, jsonschema, jinja2, cffi, beautifulsoup4, anyio, nbformat, argon2-cffi-bindings, nbclient, argon2-cffi, nbconvert, notebook, jupyter-server, notebook-shim, jupyterlab-server, nbclassic, jupyterlab\n",
      "Successfully installed MarkupSafe-2.1.1 Send2Trash-1.8.0 anyio-3.6.1 argon2-cffi-21.3.0 argon2-cffi-bindings-21.2.0 attrs-22.1.0 babel-2.10.3 beautifulsoup4-4.11.1 bleach-5.0.1 certifi-2022.9.14 cffi-1.15.1 charset-normalizer-2.1.1 defusedxml-0.7.1 fastjsonschema-2.16.1 idna-3.4 ipython-genutils-0.2.0 jinja2-3.1.2 json5-0.9.10 jsonschema-4.16.0 jupyter-server-1.18.1 jupyterlab-3.4.7 jupyterlab-pygments-0.2.2 jupyterlab-server-2.15.1 lxml-4.9.1 mistune-2.0.4 nbclassic-0.4.3 nbclient-0.6.8 nbconvert-7.0.0 nbformat-5.5.0 notebook-6.4.12 notebook-shim-0.1.0 pandocfilters-1.5.0 prometheus-client-0.14.1 pycparser-2.21 pyrsistent-0.18.1 pytz-2022.2.1 pywinpty-2.0.7 requests-2.28.1 sniffio-1.3.0 soupsieve-2.3.2.post1 terminado-0.15.0 tinycss2-1.1.1 tomli-2.0.1 urllib3-1.26.12 webencodings-0.5.1 websocket-client-1.4.1\n",
      "Note: you may need to restart the kernel to use updated packages.\n"
     ]
    },
    {
     "name": "stderr",
     "output_type": "stream",
     "text": [
      "  WARNING: The script send2trash.exe is installed in 'c:\\Users\\Fasiha\\AppData\\Local\\Programs\\Python\\Python310\\Scripts' which is not on PATH.\n",
      "  Consider adding this directory to PATH or, if you prefer to suppress this warning, use --no-warn-script-location.\n",
      "  WARNING: The script pyjson5.exe is installed in 'c:\\Users\\Fasiha\\AppData\\Local\\Programs\\Python\\Python310\\Scripts' which is not on PATH.\n",
      "  Consider adding this directory to PATH or, if you prefer to suppress this warning, use --no-warn-script-location.\n",
      "  WARNING: The script wsdump.exe is installed in 'c:\\Users\\Fasiha\\AppData\\Local\\Programs\\Python\\Python310\\Scripts' which is not on PATH.\n",
      "  Consider adding this directory to PATH or, if you prefer to suppress this warning, use --no-warn-script-location.\n",
      "  WARNING: The script normalizer.exe is installed in 'c:\\Users\\Fasiha\\AppData\\Local\\Programs\\Python\\Python310\\Scripts' which is not on PATH.\n",
      "  Consider adding this directory to PATH or, if you prefer to suppress this warning, use --no-warn-script-location.\n",
      "  WARNING: The script pybabel.exe is installed in 'c:\\Users\\Fasiha\\AppData\\Local\\Programs\\Python\\Python310\\Scripts' which is not on PATH.\n",
      "  Consider adding this directory to PATH or, if you prefer to suppress this warning, use --no-warn-script-location.\n",
      "  WARNING: The script jsonschema.exe is installed in 'c:\\Users\\Fasiha\\AppData\\Local\\Programs\\Python\\Python310\\Scripts' which is not on PATH.\n",
      "  Consider adding this directory to PATH or, if you prefer to suppress this warning, use --no-warn-script-location.\n",
      "  WARNING: The script jupyter-trust.exe is installed in 'c:\\Users\\Fasiha\\AppData\\Local\\Programs\\Python\\Python310\\Scripts' which is not on PATH.\n",
      "  Consider adding this directory to PATH or, if you prefer to suppress this warning, use --no-warn-script-location.\n",
      "  WARNING: The script jupyter-execute.exe is installed in 'c:\\Users\\Fasiha\\AppData\\Local\\Programs\\Python\\Python310\\Scripts' which is not on PATH.\n",
      "  Consider adding this directory to PATH or, if you prefer to suppress this warning, use --no-warn-script-location.\n",
      "  WARNING: The scripts jupyter-dejavu.exe and jupyter-nbconvert.exe are installed in 'c:\\Users\\Fasiha\\AppData\\Local\\Programs\\Python\\Python310\\Scripts' which is not on PATH.\n",
      "  Consider adding this directory to PATH or, if you prefer to suppress this warning, use --no-warn-script-location.\n",
      "  WARNING: The scripts jupyter-bundlerextension.exe, jupyter-nbextension.exe, jupyter-notebook.exe and jupyter-serverextension.exe are installed in 'c:\\Users\\Fasiha\\AppData\\Local\\Programs\\Python\\Python310\\Scripts' which is not on PATH.\n",
      "  Consider adding this directory to PATH or, if you prefer to suppress this warning, use --no-warn-script-location.\n",
      "  WARNING: The script jupyter-server.exe is installed in 'c:\\Users\\Fasiha\\AppData\\Local\\Programs\\Python\\Python310\\Scripts' which is not on PATH.\n",
      "  Consider adding this directory to PATH or, if you prefer to suppress this warning, use --no-warn-script-location.\n",
      "  WARNING: The scripts jupyter-bundlerextension.exe, jupyter-nbclassic.exe, jupyter-nbextension.exe and jupyter-serverextension.exe are installed in 'c:\\Users\\Fasiha\\AppData\\Local\\Programs\\Python\\Python310\\Scripts' which is not on PATH.\n",
      "  Consider adding this directory to PATH or, if you prefer to suppress this warning, use --no-warn-script-location.\n",
      "  WARNING: The scripts jlpm.exe, jupyter-lab.exe, jupyter-labextension.exe and jupyter-labhub.exe are installed in 'c:\\Users\\Fasiha\\AppData\\Local\\Programs\\Python\\Python310\\Scripts' which is not on PATH.\n",
      "  Consider adding this directory to PATH or, if you prefer to suppress this warning, use --no-warn-script-location.\n"
     ]
    }
   ],
   "source": [
    "pip install jupyterlab\n"
   ]
  },
  {
   "cell_type": "code",
   "execution_count": 5,
   "metadata": {},
   "outputs": [
    {
     "name": "stdout",
     "output_type": "stream",
     "text": [
      "Collecting Pandas\n",
      "  Downloading pandas-1.4.4-cp310-cp310-win_amd64.whl (10.0 MB)\n",
      "     ---------------------------------------- 10.0/10.0 MB 1.7 MB/s eta 0:00:00\n",
      "Requirement already satisfied: python-dateutil>=2.8.1 in c:\\users\\fasiha\\appdata\\roaming\\python\\python310\\site-packages (from Pandas) (2.8.2)\n",
      "Collecting numpy>=1.21.0\n",
      "  Downloading numpy-1.23.3-cp310-cp310-win_amd64.whl (14.6 MB)\n",
      "     ---------------------------------------- 14.6/14.6 MB 1.6 MB/s eta 0:00:00\n",
      "Requirement already satisfied: pytz>=2020.1 in c:\\users\\fasiha\\appdata\\local\\programs\\python\\python310\\lib\\site-packages (from Pandas) (2022.2.1)\n",
      "Requirement already satisfied: six>=1.5 in c:\\users\\fasiha\\appdata\\roaming\\python\\python310\\site-packages (from python-dateutil>=2.8.1->Pandas) (1.16.0)\n",
      "Installing collected packages: numpy, Pandas\n",
      "Successfully installed Pandas-1.4.4 numpy-1.23.3\n",
      "Note: you may need to restart the kernel to use updated packages.\n"
     ]
    },
    {
     "name": "stderr",
     "output_type": "stream",
     "text": [
      "  WARNING: The script f2py.exe is installed in 'c:\\Users\\Fasiha\\AppData\\Local\\Programs\\Python\\Python310\\Scripts' which is not on PATH.\n",
      "  Consider adding this directory to PATH or, if you prefer to suppress this warning, use --no-warn-script-location.\n"
     ]
    }
   ],
   "source": [
    "pip install Pandas"
   ]
  },
  {
   "cell_type": "code",
   "execution_count": 8,
   "metadata": {},
   "outputs": [
    {
     "name": "stdout",
     "output_type": "stream",
     "text": [
      "Requirement already satisfied: numpy in c:\\users\\fasiha\\appdata\\local\\programs\\python\\python310\\lib\\site-packages (1.23.3)\n",
      "Note: you may need to restart the kernel to use updated packages.\n"
     ]
    }
   ],
   "source": [
    "pip install numpy"
   ]
  },
  {
   "cell_type": "code",
   "execution_count": 9,
   "metadata": {},
   "outputs": [
    {
     "name": "stdout",
     "output_type": "stream",
     "text": [
      "Collecting statistics\n",
      "  Downloading statistics-1.0.3.5.tar.gz (8.3 kB)\n",
      "  Preparing metadata (setup.py): started\n",
      "  Preparing metadata (setup.py): finished with status 'done'\n",
      "Collecting docutils>=0.3\n",
      "  Downloading docutils-0.19-py3-none-any.whl (570 kB)\n",
      "     -------------------------------------- 570.5/570.5 kB 6.0 MB/s eta 0:00:00\n",
      "Using legacy 'setup.py install' for statistics, since package 'wheel' is not installed.\n",
      "Installing collected packages: docutils, statistics\n",
      "  Running setup.py install for statistics: started\n",
      "  Running setup.py install for statistics: finished with status 'done'\n",
      "Successfully installed docutils-0.19 statistics-1.0.3.5\n",
      "Note: you may need to restart the kernel to use updated packages.\n"
     ]
    },
    {
     "name": "stderr",
     "output_type": "stream",
     "text": [
      "  WARNING: The script docutils.exe is installed in 'c:\\Users\\Fasiha\\AppData\\Local\\Programs\\Python\\Python310\\Scripts' which is not on PATH.\n",
      "  Consider adding this directory to PATH or, if you prefer to suppress this warning, use --no-warn-script-location.\n"
     ]
    }
   ],
   "source": [
    "pip install statistics"
   ]
  },
  {
   "cell_type": "code",
   "execution_count": 2,
   "metadata": {},
   "outputs": [
    {
     "name": "stdout",
     "output_type": "stream",
     "text": [
      "Requirement already satisfied: statistics in c:\\users\\fasiha\\appdata\\local\\programs\\python\\python310\\lib\\site-packages (1.0.3.5)Note: you may need to restart the kernel to use updated packages.\n",
      "\n",
      "Requirement already satisfied: docutils>=0.3 in c:\\users\\fasiha\\appdata\\local\\programs\\python\\python310\\lib\\site-packages (from statistics) (0.19)\n"
     ]
    }
   ],
   "source": [
    "pip install statistics\n"
   ]
  },
  {
   "cell_type": "code",
   "execution_count": 4,
   "metadata": {},
   "outputs": [
    {
     "name": "stdout",
     "output_type": "stream",
     "text": [
      "Note: you may need to restart the kernel to use updated packages.\n"
     ]
    },
    {
     "name": "stderr",
     "output_type": "stream",
     "text": [
      "ERROR: Could not find a version that satisfies the requirement collections (from versions: none)\n",
      "ERROR: No matching distribution found for collections\n"
     ]
    }
   ],
   "source": [
    "pip install collections"
   ]
  },
  {
   "cell_type": "code",
   "execution_count": 5,
   "metadata": {},
   "outputs": [
    {
     "name": "stdout",
     "output_type": "stream",
     "text": [
      "Collecting matplotlib\n",
      "  Downloading matplotlib-3.6.0-cp310-cp310-win_amd64.whl (7.2 MB)\n",
      "     ---------------------------------------- 7.2/7.2 MB 3.0 MB/s eta 0:00:00\n",
      "Requirement already satisfied: python-dateutil>=2.7 in c:\\users\\fasiha\\appdata\\roaming\\python\\python310\\site-packages (from matplotlib) (2.8.2)\n",
      "Collecting kiwisolver>=1.0.1\n",
      "  Downloading kiwisolver-1.4.4-cp310-cp310-win_amd64.whl (55 kB)\n",
      "     ---------------------------------------- 55.3/55.3 kB 1.4 MB/s eta 0:00:00\n",
      "Collecting contourpy>=1.0.1\n",
      "  Downloading contourpy-1.0.5-cp310-cp310-win_amd64.whl (164 kB)\n",
      "     -------------------------------------- 164.1/164.1 kB 1.9 MB/s eta 0:00:00\n",
      "Requirement already satisfied: packaging>=20.0 in c:\\users\\fasiha\\appdata\\roaming\\python\\python310\\site-packages (from matplotlib) (21.3)\n",
      "Collecting fonttools>=4.22.0\n",
      "  Downloading fonttools-4.37.2-py3-none-any.whl (959 kB)\n",
      "     -------------------------------------- 959.8/959.8 kB 2.9 MB/s eta 0:00:00\n",
      "Collecting cycler>=0.10\n",
      "  Downloading cycler-0.11.0-py3-none-any.whl (6.4 kB)\n",
      "Collecting pillow>=6.2.0\n",
      "  Downloading Pillow-9.2.0-cp310-cp310-win_amd64.whl (3.3 MB)\n",
      "     ---------------------------------------- 3.3/3.3 MB 3.1 MB/s eta 0:00:00\n",
      "Requirement already satisfied: pyparsing>=2.2.1 in c:\\users\\fasiha\\appdata\\roaming\\python\\python310\\site-packages (from matplotlib) (3.0.9)\n",
      "Requirement already satisfied: numpy>=1.19 in c:\\users\\fasiha\\appdata\\local\\programs\\python\\python310\\lib\\site-packages (from matplotlib) (1.23.3)\n",
      "Requirement already satisfied: six>=1.5 in c:\\users\\fasiha\\appdata\\roaming\\python\\python310\\site-packages (from python-dateutil>=2.7->matplotlib) (1.16.0)\n",
      "Installing collected packages: pillow, kiwisolver, fonttools, cycler, contourpy, matplotlib\n",
      "Successfully installed contourpy-1.0.5 cycler-0.11.0 fonttools-4.37.2 kiwisolver-1.4.4 matplotlib-3.6.0 pillow-9.2.0\n",
      "Note: you may need to restart the kernel to use updated packages.\n"
     ]
    },
    {
     "name": "stderr",
     "output_type": "stream",
     "text": [
      "  WARNING: The scripts fonttools.exe, pyftmerge.exe, pyftsubset.exe and ttx.exe are installed in 'c:\\Users\\Fasiha\\AppData\\Local\\Programs\\Python\\Python310\\Scripts' which is not on PATH.\n",
      "  Consider adding this directory to PATH or, if you prefer to suppress this warning, use --no-warn-script-location.\n"
     ]
    }
   ],
   "source": [
    "pip install matplotlib\n"
   ]
  },
  {
   "cell_type": "code",
   "execution_count": 6,
   "metadata": {},
   "outputs": [
    {
     "name": "stdout",
     "output_type": "stream",
     "text": [
      "Collecting seaborn\n",
      "  Downloading seaborn-0.12.0-py3-none-any.whl (285 kB)\n",
      "     -------------------------------------- 285.1/285.1 kB 2.2 MB/s eta 0:00:00\n",
      "Requirement already satisfied: matplotlib>=3.1 in c:\\users\\fasiha\\appdata\\local\\programs\\python\\python310\\lib\\site-packages (from seaborn) (3.6.0)\n",
      "Requirement already satisfied: pandas>=0.25 in c:\\users\\fasiha\\appdata\\local\\programs\\python\\python310\\lib\\site-packages (from seaborn) (1.4.4)\n",
      "Requirement already satisfied: numpy>=1.17 in c:\\users\\fasiha\\appdata\\local\\programs\\python\\python310\\lib\\site-packages (from seaborn) (1.23.3)\n",
      "Requirement already satisfied: pillow>=6.2.0 in c:\\users\\fasiha\\appdata\\local\\programs\\python\\python310\\lib\\site-packages (from matplotlib>=3.1->seaborn) (9.2.0)\n",
      "Requirement already satisfied: packaging>=20.0 in c:\\users\\fasiha\\appdata\\roaming\\python\\python310\\site-packages (from matplotlib>=3.1->seaborn) (21.3)\n",
      "Requirement already satisfied: python-dateutil>=2.7 in c:\\users\\fasiha\\appdata\\roaming\\python\\python310\\site-packages (from matplotlib>=3.1->seaborn) (2.8.2)\n",
      "Requirement already satisfied: pyparsing>=2.2.1 in c:\\users\\fasiha\\appdata\\roaming\\python\\python310\\site-packages (from matplotlib>=3.1->seaborn) (3.0.9)\n",
      "Requirement already satisfied: kiwisolver>=1.0.1 in c:\\users\\fasiha\\appdata\\local\\programs\\python\\python310\\lib\\site-packages (from matplotlib>=3.1->seaborn) (1.4.4)\n",
      "Requirement already satisfied: fonttools>=4.22.0 in c:\\users\\fasiha\\appdata\\local\\programs\\python\\python310\\lib\\site-packages (from matplotlib>=3.1->seaborn) (4.37.2)\n",
      "Requirement already satisfied: contourpy>=1.0.1 in c:\\users\\fasiha\\appdata\\local\\programs\\python\\python310\\lib\\site-packages (from matplotlib>=3.1->seaborn) (1.0.5)\n",
      "Requirement already satisfied: cycler>=0.10 in c:\\users\\fasiha\\appdata\\local\\programs\\python\\python310\\lib\\site-packages (from matplotlib>=3.1->seaborn) (0.11.0)\n",
      "Requirement already satisfied: pytz>=2020.1 in c:\\users\\fasiha\\appdata\\local\\programs\\python\\python310\\lib\\site-packages (from pandas>=0.25->seaborn) (2022.2.1)\n",
      "Requirement already satisfied: six>=1.5 in c:\\users\\fasiha\\appdata\\roaming\\python\\python310\\site-packages (from python-dateutil>=2.7->matplotlib>=3.1->seaborn) (1.16.0)\n",
      "Installing collected packages: seaborn\n",
      "Successfully installed seaborn-0.12.0\n",
      "Note: you may need to restart the kernel to use updated packages.\n"
     ]
    }
   ],
   "source": [
    "pip install seaborn"
   ]
  },
  {
   "cell_type": "code",
   "execution_count": 8,
   "metadata": {},
   "outputs": [
    {
     "name": "stdout",
     "output_type": "stream",
     "text": [
      "Collecting folium\n",
      "  Downloading folium-0.12.1.post1-py2.py3-none-any.whl (95 kB)\n",
      "     ---------------------------------------- 95.0/95.0 kB 1.8 MB/s eta 0:00:00\n",
      "Collecting branca>=0.3.0\n",
      "  Downloading branca-0.5.0-py3-none-any.whl (24 kB)\n",
      "Requirement already satisfied: numpy in c:\\users\\fasiha\\appdata\\local\\programs\\python\\python310\\lib\\site-packages (from folium) (1.23.3)\n",
      "Requirement already satisfied: requests in c:\\users\\fasiha\\appdata\\local\\programs\\python\\python310\\lib\\site-packages (from folium) (2.28.1)\n",
      "Requirement already satisfied: jinja2>=2.9 in c:\\users\\fasiha\\appdata\\local\\programs\\python\\python310\\lib\\site-packages (from folium) (3.1.2)\n",
      "Requirement already satisfied: MarkupSafe>=2.0 in c:\\users\\fasiha\\appdata\\local\\programs\\python\\python310\\lib\\site-packages (from jinja2>=2.9->folium) (2.1.1)\n",
      "Requirement already satisfied: certifi>=2017.4.17 in c:\\users\\fasiha\\appdata\\local\\programs\\python\\python310\\lib\\site-packages (from requests->folium) (2022.9.14)\n",
      "Requirement already satisfied: charset-normalizer<3,>=2 in c:\\users\\fasiha\\appdata\\local\\programs\\python\\python310\\lib\\site-packages (from requests->folium) (2.1.1)\n",
      "Requirement already satisfied: idna<4,>=2.5 in c:\\users\\fasiha\\appdata\\local\\programs\\python\\python310\\lib\\site-packages (from requests->folium) (3.4)\n",
      "Requirement already satisfied: urllib3<1.27,>=1.21.1 in c:\\users\\fasiha\\appdata\\local\\programs\\python\\python310\\lib\\site-packages (from requests->folium) (1.26.12)\n",
      "Installing collected packages: branca, folium\n",
      "Successfully installed branca-0.5.0 folium-0.12.1.post1\n",
      "Note: you may need to restart the kernel to use updated packages.\n"
     ]
    }
   ],
   "source": [
    "pip install folium"
   ]
  },
  {
   "cell_type": "code",
   "execution_count": 1,
   "metadata": {},
   "outputs": [
    {
     "ename": "SyntaxError",
     "evalue": "invalid syntax (3195509053.py, line 1)",
     "output_type": "error",
     "traceback": [
      "\u001b[1;36m  Cell \u001b[1;32mIn [1], line 1\u001b[1;36m\u001b[0m\n\u001b[1;33m    pip install pandas\u001b[0m\n\u001b[1;37m        ^\u001b[0m\n\u001b[1;31mSyntaxError\u001b[0m\u001b[1;31m:\u001b[0m invalid syntax\n"
     ]
    }
   ],
   "source": [
    "pip install pandas\n",
    "pip install numpy\n",
    "pip install statistics\n",
    "pip install collections\n",
    "pip install sklearn\n",
    "pip install sklearn.ensemble\n",
    "pip install matplotlib\n",
    "pip install seaborn\n",
    "Pip install folium\n",
    "pip install matplotlib.pyplot\n",
    "\n",
    "pip install sklearn.preprocessing \n",
    "pip install sklearn.model_selection\n",
    "pip install imblearn.over_sampling \n",
    "pip install imblearn.under_sampling\n",
    "pip install imblearn.pipeline\n",
    "pip install sklearn.linear_model\n",
    "\n",
    "pip install sklearn.metrics \n",
    "pip install warnings\n",
    "\n"
   ]
  }
 ],
 "metadata": {
  "kernelspec": {
   "display_name": "Python 3.10.7 64-bit",
   "language": "python",
   "name": "python3"
  },
  "language_info": {
   "codemirror_mode": {
    "name": "ipython",
    "version": 3
   },
   "file_extension": ".py",
   "mimetype": "text/x-python",
   "name": "python",
   "nbconvert_exporter": "python",
   "pygments_lexer": "ipython3",
   "version": "3.10.7"
  },
  "orig_nbformat": 4,
  "vscode": {
   "interpreter": {
    "hash": "cf45877632aca4321b4fe4dd948646c26a691b671f6f55d5a7be9d99e14a8bbb"
   }
  }
 },
 "nbformat": 4,
 "nbformat_minor": 2
}
